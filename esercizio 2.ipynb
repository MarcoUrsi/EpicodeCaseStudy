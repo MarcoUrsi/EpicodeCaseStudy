{
 "cells": [
  {
   "cell_type": "code",
   "execution_count": 3,
   "id": "cef8da05-4adf-40ad-8f58-2ac7398a50ff",
   "metadata": {},
   "outputs": [],
   "source": [
    "nome_scuola = \"epicode\""
   ]
  },
  {
   "cell_type": "code",
   "execution_count": 4,
   "id": "9dc1c7dd-1996-417a-a26b-fc9ab6a665da",
   "metadata": {},
   "outputs": [
    {
     "name": "stdout",
     "output_type": "stream",
     "text": [
      "epicode\n"
     ]
    }
   ],
   "source": [
    "print(nome_scuola)"
   ]
  },
  {
   "cell_type": "code",
   "execution_count": 5,
   "id": "fdbe44e5-21b7-488c-9e16-2d9edb880abe",
   "metadata": {},
   "outputs": [
    {
     "data": {
      "text/plain": [
       "'e'"
      ]
     },
     "execution_count": 5,
     "metadata": {},
     "output_type": "execute_result"
    }
   ],
   "source": [
    "nome_scuola[0]"
   ]
  },
  {
   "cell_type": "code",
   "execution_count": 6,
   "id": "72f2ba56-ab83-4ef2-b193-6f94eade20a4",
   "metadata": {},
   "outputs": [
    {
     "data": {
      "text/plain": [
       "'epi'"
      ]
     },
     "execution_count": 6,
     "metadata": {},
     "output_type": "execute_result"
    }
   ],
   "source": [
    "nome_scuola[0:3]"
   ]
  },
  {
   "cell_type": "code",
   "execution_count": 8,
   "id": "280e682d-24f6-45c2-b35e-a7a922f3b519",
   "metadata": {},
   "outputs": [
    {
     "data": {
      "text/plain": [
       "'EPICODE'"
      ]
     },
     "execution_count": 8,
     "metadata": {},
     "output_type": "execute_result"
    }
   ],
   "source": [
    "nome_scuola.upper()"
   ]
  },
  {
   "cell_type": "code",
   "execution_count": 9,
   "id": "3be36594-8881-4221-a60d-2e03091defa6",
   "metadata": {},
   "outputs": [],
   "source": [
    "x = 10"
   ]
  },
  {
   "cell_type": "code",
   "execution_count": 10,
   "id": "27059dd1-8ae4-434d-b5d0-1ad42abb7925",
   "metadata": {},
   "outputs": [
    {
     "data": {
      "text/plain": [
       "36"
      ]
     },
     "execution_count": 10,
     "metadata": {},
     "output_type": "execute_result"
    }
   ],
   "source": [
    "(x + 2) * 3"
   ]
  },
  {
   "cell_type": "code",
   "execution_count": 14,
   "id": "7c0647c0-105f-4add-baf4-74b25b2045d6",
   "metadata": {},
   "outputs": [
    {
     "name": "stdin",
     "output_type": "stream",
     "text": [
      "quanti litri contiene il serbatoio? 80\n"
     ]
    }
   ],
   "source": [
    "litri_serbatoio = input(\"quanti litri contiene il serbatoio?\")"
   ]
  },
  {
   "cell_type": "code",
   "execution_count": 16,
   "id": "738c01bc-b141-4873-af44-ab9c4f170155",
   "metadata": {},
   "outputs": [
    {
     "name": "stdin",
     "output_type": "stream",
     "text": [
      "efficienza km per litro? 10\n"
     ]
    }
   ],
   "source": [
    "km_per_litro = input(\"efficienza km per litro?\")"
   ]
  },
  {
   "cell_type": "code",
   "execution_count": 19,
   "id": "83f0b52c-db5f-4389-a642-531dfbca7389",
   "metadata": {},
   "outputs": [
    {
     "name": "stdin",
     "output_type": "stream",
     "text": [
      "quanto costa la benzina a litro? 1.70\n"
     ]
    }
   ],
   "source": [
    "prezzo_litro_benzina = input(\"quanto costa la benzina a litro?\")"
   ]
  },
  {
   "cell_type": "code",
   "execution_count": 29,
   "id": "5891b059-0974-40e8-ac45-8320ce6fff75",
   "metadata": {},
   "outputs": [],
   "source": [
    "prezzo_litro_benzina = float(prezzo_litro_benzina)"
   ]
  },
  {
   "cell_type": "code",
   "execution_count": 30,
   "id": "bdfc4932-bbae-4a79-a640-ae21ded23950",
   "metadata": {},
   "outputs": [],
   "source": [
    "km_per_litro = int(km_per_litro)"
   ]
  },
  {
   "cell_type": "code",
   "execution_count": 33,
   "id": "6a49387d-44cb-4b91-901c-18da2a7de865",
   "metadata": {},
   "outputs": [],
   "source": [
    "costo_100km = (prezzo_litro_benzina * km_per_litro) * 10"
   ]
  },
  {
   "cell_type": "code",
   "execution_count": 34,
   "id": "5058b1c6-361e-4d90-9c99-1271e310348a",
   "metadata": {},
   "outputs": [
    {
     "name": "stdout",
     "output_type": "stream",
     "text": [
      "170.0\n"
     ]
    }
   ],
   "source": [
    "print(costo_100km)"
   ]
  },
  {
   "cell_type": "code",
   "execution_count": 35,
   "id": "0e5da70d-7c2e-4566-82e4-deaaa3e01b67",
   "metadata": {},
   "outputs": [
    {
     "name": "stdin",
     "output_type": "stream",
     "text": [
      "qual'è il tuo nome francesca\n"
     ]
    }
   ],
   "source": [
    "nome = input(\"qual'è il tuo nome\")"
   ]
  },
  {
   "cell_type": "code",
   "execution_count": 37,
   "id": "24f2933d-d3f4-4bc0-8d8b-79a97d3e7abb",
   "metadata": {},
   "outputs": [
    {
     "name": "stdout",
     "output_type": "stream",
     "text": [
      "fra...sca\n"
     ]
    }
   ],
   "source": [
    "print(nome[0:3] + \"...\" + nome[-3:])"
   ]
  },
  {
   "cell_type": "code",
   "execution_count": 39,
   "id": "4a974dc0-b86a-4750-a5f4-d121b9be8af8",
   "metadata": {},
   "outputs": [],
   "source": [
    "stringa1 = \"epicode\""
   ]
  },
  {
   "cell_type": "code",
   "execution_count": 40,
   "id": "a9437ab3-301a-4b3b-83c9-052105e094e9",
   "metadata": {},
   "outputs": [
    {
     "data": {
      "text/plain": [
       "7"
      ]
     },
     "execution_count": 40,
     "metadata": {},
     "output_type": "execute_result"
    }
   ],
   "source": [
    "len(stringa1)"
   ]
  },
  {
   "cell_type": "code",
   "execution_count": 42,
   "id": "8c966ba6-4210-4ff0-9b98-1bfa23b2141f",
   "metadata": {},
   "outputs": [],
   "source": [
    "codici = [\"knt-S1\", \"cba-G9\", \"qtr-Z8\"]"
   ]
  },
  {
   "cell_type": "code",
   "execution_count": 44,
   "id": "17d33710-a47f-4a91-9872-bb575118be35",
   "metadata": {},
   "outputs": [],
   "source": [
    "codice1 = codici[0]"
   ]
  },
  {
   "cell_type": "code",
   "execution_count": 45,
   "id": "3a741398-a72d-4322-bba5-6dd1618d83d5",
   "metadata": {},
   "outputs": [
    {
     "data": {
      "text/plain": [
       "'-S1'"
      ]
     },
     "execution_count": 45,
     "metadata": {},
     "output_type": "execute_result"
    }
   ],
   "source": [
    "codice1[-3:]"
   ]
  },
  {
   "cell_type": "code",
   "execution_count": 46,
   "id": "ac882b48-6bd7-49f9-934e-cee21ba8e643",
   "metadata": {},
   "outputs": [],
   "source": [
    "codice2 = codici[1]"
   ]
  },
  {
   "cell_type": "code",
   "execution_count": 47,
   "id": "904fd1ef-1147-4e2a-bdd5-e130d0461714",
   "metadata": {},
   "outputs": [
    {
     "data": {
      "text/plain": [
       "'-G9'"
      ]
     },
     "execution_count": 47,
     "metadata": {},
     "output_type": "execute_result"
    }
   ],
   "source": [
    "codice2[-3:]"
   ]
  },
  {
   "cell_type": "code",
   "execution_count": 48,
   "id": "a9ec6fea-eace-4efe-bf4a-0f36f2d662db",
   "metadata": {},
   "outputs": [],
   "source": [
    "codice3 = codici[2]"
   ]
  },
  {
   "cell_type": "code",
   "execution_count": 49,
   "id": "bb143473-34da-457d-961c-29bf72d0d45c",
   "metadata": {},
   "outputs": [
    {
     "data": {
      "text/plain": [
       "'-Z8'"
      ]
     },
     "execution_count": 49,
     "metadata": {},
     "output_type": "execute_result"
    }
   ],
   "source": [
    "codice3[-3:]"
   ]
  },
  {
   "cell_type": "code",
   "execution_count": 52,
   "id": "c37986a0-fe2a-48fe-8e91-ac8b9717a940",
   "metadata": {},
   "outputs": [],
   "source": [
    "nuovi_codici = codice1[-3:] , codice2[-3:] , codice3[-3:] "
   ]
  },
  {
   "cell_type": "code",
   "execution_count": 53,
   "id": "6cee46fe-8349-4956-adf8-0dbebcb22abb",
   "metadata": {},
   "outputs": [
    {
     "name": "stdout",
     "output_type": "stream",
     "text": [
      "('-S1', '-G9', '-Z8')\n"
     ]
    }
   ],
   "source": [
    "print(nuovi_codici)"
   ]
  },
  {
   "cell_type": "code",
   "execution_count": null,
   "id": "32cc6f34-c0ed-458c-b6c4-4fe66ff1d815",
   "metadata": {},
   "outputs": [],
   "source": []
  }
 ],
 "metadata": {
  "kernelspec": {
   "display_name": "Python 3 (ipykernel)",
   "language": "python",
   "name": "python3"
  },
  "language_info": {
   "codemirror_mode": {
    "name": "ipython",
    "version": 3
   },
   "file_extension": ".py",
   "mimetype": "text/x-python",
   "name": "python",
   "nbconvert_exporter": "python",
   "pygments_lexer": "ipython3",
   "version": "3.10.9"
  }
 },
 "nbformat": 4,
 "nbformat_minor": 5
}
