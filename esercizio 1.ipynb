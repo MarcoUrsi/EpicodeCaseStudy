{
 "cells": [
  {
   "cell_type": "code",
   "execution_count": 1,
   "id": "0151eea6-10e8-42b1-bbc7-7761e3d67d20",
   "metadata": {},
   "outputs": [],
   "source": [
    "studenti = 25"
   ]
  },
  {
   "cell_type": "code",
   "execution_count": 2,
   "id": "932035a9-4bd4-4dd8-a513-228aa4b09290",
   "metadata": {},
   "outputs": [
    {
     "name": "stdout",
     "output_type": "stream",
     "text": [
      "25\n"
     ]
    }
   ],
   "source": [
    "print(studenti)"
   ]
  },
  {
   "cell_type": "code",
   "execution_count": 5,
   "id": "1a40f966-a05c-49eb-b2e1-697d5b41b500",
   "metadata": {},
   "outputs": [],
   "source": [
    "studenti_in_arrivo = 3"
   ]
  },
  {
   "cell_type": "code",
   "execution_count": 6,
   "id": "26305445-fdac-4231-9405-e5dbe2e5a384",
   "metadata": {},
   "outputs": [],
   "source": [
    "totale_studenti = studenti + studenti_in_arrivo"
   ]
  },
  {
   "cell_type": "code",
   "execution_count": 7,
   "id": "eb7fc19e-67d2-43d3-a456-e8fef8cde15e",
   "metadata": {},
   "outputs": [
    {
     "name": "stdout",
     "output_type": "stream",
     "text": [
      "28\n"
     ]
    }
   ],
   "source": [
    "print(totale_studenti)"
   ]
  },
  {
   "cell_type": "code",
   "execution_count": 8,
   "id": "0102a63a-226a-4aff-bbf0-cc688d8725b4",
   "metadata": {},
   "outputs": [],
   "source": [
    "lista = [1, 2, 3, 4, 5]"
   ]
  },
  {
   "cell_type": "code",
   "execution_count": 9,
   "id": "816a9df8-80f3-470a-aba3-ca799b4713ca",
   "metadata": {},
   "outputs": [],
   "source": [
    "numeri = lista"
   ]
  },
  {
   "cell_type": "code",
   "execution_count": 10,
   "id": "837a4e3a-85f6-4579-b3e7-0dea7a5ff5ec",
   "metadata": {},
   "outputs": [
    {
     "name": "stdout",
     "output_type": "stream",
     "text": [
      "[1, 2, 3, 4, 5]\n"
     ]
    }
   ],
   "source": [
    "print(numeri)"
   ]
  },
  {
   "cell_type": "code",
   "execution_count": 11,
   "id": "dce9b9ec-d390-4fb0-938f-80b802dfcb47",
   "metadata": {},
   "outputs": [],
   "source": [
    "film = [\"trecento\", \"ironman\", \"warrior\"]"
   ]
  },
  {
   "cell_type": "code",
   "execution_count": 12,
   "id": "ef3f42bf-d8f7-4ca2-9031-a18ef66514f6",
   "metadata": {},
   "outputs": [],
   "source": [
    "film_preferiti = film"
   ]
  },
  {
   "cell_type": "code",
   "execution_count": 13,
   "id": "5311523c-ef38-4cf8-ad06-24e24e1b2b7a",
   "metadata": {},
   "outputs": [
    {
     "name": "stdout",
     "output_type": "stream",
     "text": [
      "['trecento', 'ironman', 'warrior']\n"
     ]
    }
   ],
   "source": [
    "print(film_preferiti)"
   ]
  },
  {
   "cell_type": "code",
   "execution_count": null,
   "id": "bd2963a5-66ef-400a-ab2b-26f9b8b72977",
   "metadata": {},
   "outputs": [],
   "source": []
  }
 ],
 "metadata": {
  "kernelspec": {
   "display_name": "Python 3 (ipykernel)",
   "language": "python",
   "name": "python3"
  },
  "language_info": {
   "codemirror_mode": {
    "name": "ipython",
    "version": 3
   },
   "file_extension": ".py",
   "mimetype": "text/x-python",
   "name": "python",
   "nbconvert_exporter": "python",
   "pygments_lexer": "ipython3",
   "version": "3.10.9"
  }
 },
 "nbformat": 4,
 "nbformat_minor": 5
}
