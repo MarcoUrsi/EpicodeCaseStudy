{
 "cells": [
  {
   "cell_type": "code",
   "execution_count": 8,
   "id": "ad56441c-0948-4187-89ea-7e7d37c60913",
   "metadata": {},
   "outputs": [
    {
     "name": "stdin",
     "output_type": "stream",
     "text": [
      "Inserisci un numero 9\n"
     ]
    },
    {
     "name": "stdout",
     "output_type": "stream",
     "text": [
      "sto testando il divisore: 2\n",
      "sto testando il divisore: 3\n",
      "sto testando il divisore: 3\n",
      "[3, 3]\n"
     ]
    }
   ],
   "source": [
    "\"\"\"numero = int(input(\"Inserisci un numero\"))\n",
    "fattori = list()\n",
    "divisore = 2\n",
    "while numero > 1:\n",
    "    print(\"sto testando il divisore:\", divisore)\n",
    "    if numero % divisore == 0:\n",
    "        numero /= divisore\n",
    "        fattori.append(divisore)\n",
    "    else :\n",
    "        divisore += 1\n",
    "print(fattori)\"\"\""
   ]
  },
  {
   "cell_type": "code",
   "execution_count": 23,
   "id": "1f4816bf-6069-4ae0-93ba-5a823141ceff",
   "metadata": {},
   "outputs": [
    {
     "data": {
      "text/plain": [
       "'primes = list() #init\\nn = 2 #init\\nwhile n <= 1000:\\n    primes.append(n)\\n    n += 1\\nprint(primes)'"
      ]
     },
     "execution_count": 23,
     "metadata": {},
     "output_type": "execute_result"
    }
   ],
   "source": [
    "\"\"\"primes = list() #init\n",
    "n = 2 #init\n",
    "while n <= 1000:\n",
    "    primes.append(n)\n",
    "    n += 1\n",
    "print(primes)\"\"\""
   ]
  },
  {
   "cell_type": "code",
   "execution_count": null,
   "id": "c80deb4b-7b56-4557-a648-642f8d3f534f",
   "metadata": {},
   "outputs": [],
   "source": []
  }
 ],
 "metadata": {
  "kernelspec": {
   "display_name": "Python 3 (ipykernel)",
   "language": "python",
   "name": "python3"
  },
  "language_info": {
   "codemirror_mode": {
    "name": "ipython",
    "version": 3
   },
   "file_extension": ".py",
   "mimetype": "text/x-python",
   "name": "python",
   "nbconvert_exporter": "python",
   "pygments_lexer": "ipython3",
   "version": "3.10.9"
  }
 },
 "nbformat": 4,
 "nbformat_minor": 5
}
