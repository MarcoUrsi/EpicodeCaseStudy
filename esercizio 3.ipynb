{
 "cells": [
  {
   "cell_type": "code",
   "execution_count": 2,
   "id": "a3e88eab-971d-4507-baa5-a2b07b97553b",
   "metadata": {},
   "outputs": [
    {
     "name": "stdout",
     "output_type": "stream",
     "text": [
      "E\n",
      "p\n",
      "i\n",
      "c\n",
      "o\n",
      "d\n",
      "e\n"
     ]
    }
   ],
   "source": [
    "nome_scuola = \"Epicode\"\n",
    "indice = 0\n",
    "while indice < 7:\n",
    "    lettera = nome_scuola[indice]\n",
    "    print(lettera)\n",
    "    indice += 1\n"
   ]
  },
  {
   "cell_type": "code",
   "execution_count": 2,
   "id": "d2c00248-d499-4d9a-8e18-b67d5b50bb73",
   "metadata": {},
   "outputs": [
    {
     "data": {
      "text/plain": [
       "7"
      ]
     },
     "execution_count": 2,
     "metadata": {},
     "output_type": "execute_result"
    }
   ],
   "source": [
    "len(nome_scuola)"
   ]
  },
  {
   "cell_type": "code",
   "execution_count": 12,
   "id": "86c3ec5a-23b6-41f4-b3b8-baeb00b10468",
   "metadata": {},
   "outputs": [
    {
     "name": "stdout",
     "output_type": "stream",
     "text": [
      "numeri da 1 a 20: 0\n",
      "numeri da 1 a 20: 1\n",
      "numeri da 1 a 20: 2\n",
      "numeri da 1 a 20: 3\n",
      "numeri da 1 a 20: 4\n",
      "numeri da 1 a 20: 5\n",
      "numeri da 1 a 20: 6\n",
      "numeri da 1 a 20: 7\n",
      "numeri da 1 a 20: 8\n",
      "numeri da 1 a 20: 9\n",
      "numeri da 1 a 20: 10\n",
      "numeri da 1 a 20: 11\n",
      "numeri da 1 a 20: 12\n",
      "numeri da 1 a 20: 13\n",
      "numeri da 1 a 20: 14\n",
      "numeri da 1 a 20: 15\n",
      "numeri da 1 a 20: 16\n",
      "numeri da 1 a 20: 17\n",
      "numeri da 1 a 20: 18\n",
      "numeri da 1 a 20: 19\n",
      "numeri da 1 a 20: 20\n"
     ]
    }
   ],
   "source": [
    "num = 0\n",
    "while num <= 20:\n",
    "    print(\"numeri da 1 a 20:\", num)\n",
    "    num += 1"
   ]
  },
  {
   "cell_type": "code",
   "execution_count": 55,
   "id": "3d9c211f-62d3-4906-a9f8-e7fe10d6ab06",
   "metadata": {},
   "outputs": [],
   "source": [
    "esponente = 0\n",
    "copunt = 0\n",
    "while count < 10:\n",
    "    print(2^{esponente})\n",
    "    count += 1\n",
    "    esponente += 1\n",
    " "
   ]
  },
  {
   "cell_type": "code",
   "execution_count": 56,
   "id": "ba4a896f-9624-46db-bdf0-7f88e57ca136",
   "metadata": {},
   "outputs": [
    {
     "name": "stdout",
     "output_type": "stream",
     "text": [
      "2^0\n",
      "2^1\n",
      "2^2\n",
      "2^3\n",
      "2^4\n",
      "2^5\n",
      "2^6\n",
      "2^7\n",
      "2^8\n",
      "2^9\n"
     ]
    }
   ],
   "source": [
    "esponente = 0\n",
    "count = 0\n",
    "while count < 10:\n",
    "    print(f\"2^{esponente}\")\n",
    "    count += 1\n",
    "    esponente += 1"
   ]
  },
  {
   "cell_type": "code",
   "execution_count": 47,
   "id": "ea0cdcbf-e30a-4cd8-b8f8-78616494ec39",
   "metadata": {},
   "outputs": [
    {
     "name": "stdout",
     "output_type": "stream",
     "text": [
      "2^0 = 1\n",
      "2^1 = 2\n",
      "2^2 = 4\n",
      "2^3 = 8\n",
      "2^4 = 16\n",
      "2^5 = 32\n",
      "2^6 = 64\n",
      "2^7 = 128\n",
      "2^8 = 256\n",
      "2^9 = 512\n"
     ]
    }
   ],
   "source": [
    "esponente = 0\n",
    "fortwo = 1\n",
    "count = 0\n",
    "while count < 10:\n",
    "    print(f\"2^{esponente} = {fortwo}\")\n",
    "    count += 1\n",
    "    esponente += 1\n",
    "    fortwo *= 2"
   ]
  },
  {
   "cell_type": "code",
   "execution_count": 37,
   "id": "d81b443f-e38c-444b-9289-052dd335fd59",
   "metadata": {},
   "outputs": [
    {
     "name": "stdout",
     "output_type": "stream",
     "text": [
      "1\n",
      "2\n",
      "4\n",
      "8\n",
      "16\n",
      "32\n",
      "64\n",
      "128\n",
      "256\n",
      "512\n"
     ]
    }
   ],
   "source": [
    "goal = \n",
    "num = 2\n",
    "potenza = 0\n",
    "while potenza < 10:\n",
    "    num_potenza = num**potenza\n",
    "    print(num_potenza)\n",
    "    potenza += 1\n"
   ]
  },
  {
   "cell_type": "code",
   "execution_count": 43,
   "id": "db0bb777-b2c3-4717-9db4-01dcf51bdbdf",
   "metadata": {},
   "outputs": [
    {
     "name": "stdin",
     "output_type": "stream",
     "text": [
      "metti un numero 4\n"
     ]
    },
    {
     "name": "stdout",
     "output_type": "stream",
     "text": [
      "2^0 = 1\n",
      "2^1 = 2\n",
      "2^2 = 4\n",
      "2^3 = 8\n"
     ]
    }
   ],
   "source": [
    "goal = int(input(\"metti un numero\"))\n",
    "esponente = 0\n",
    "fortwo = 1\n",
    "count = 0\n",
    "while count < goal:\n",
    "    print(f\"2^{esponente} = {fortwo}\")\n",
    "    count += 1\n",
    "    esponente += 1\n",
    "    fortwo *= 2\n",
    "    \n"
   ]
  },
  {
   "cell_type": "code",
   "execution_count": 27,
   "id": "329144a3-9004-4fac-8f03-ef7237019fbb",
   "metadata": {},
   "outputs": [],
   "source": [
    "studenti = [\"Alex\", \"Bob\", \"Cindy\", \"Dan\", \"Emma\", \"Faith\", \"Grace\", \"Henry\"]\n",
    "corsi = [\"Cybersecurity\", \"Data Analyst\", \"Backend\", \"Frontend\", \"Data Analyst\", \"Backend\"]\n",
    "\n"
   ]
  },
  {
   "cell_type": "code",
   "execution_count": 28,
   "id": "c1bd1549-e079-462f-97a3-e4d6b4d45179",
   "metadata": {},
   "outputs": [
    {
     "name": "stdout",
     "output_type": "stream",
     "text": [
      "le due liste non hanno la stessa lunghezza\n"
     ]
    }
   ],
   "source": [
    "if len(studenti) == len(corsi):\n",
    "    print(\"le due liste hanno la stessa lunghezza\")\n",
    "else: \n",
    "    print(\"le due liste non hanno la stessa lunghezza\")\n",
    " "
   ]
  },
  {
   "cell_type": "code",
   "execution_count": 30,
   "id": "5f5e2c12-86e7-460f-9495-f0bc7d51235f",
   "metadata": {},
   "outputs": [],
   "source": [
    "corsi.append(\"Frontend\")"
   ]
  },
  {
   "cell_type": "code",
   "execution_count": 31,
   "id": "44686677-ab82-4bf4-8c69-2810bfb71421",
   "metadata": {},
   "outputs": [],
   "source": [
    "corsi.append(\"Cybersicurity\")"
   ]
  },
  {
   "cell_type": "code",
   "execution_count": 33,
   "id": "7ea24722-4f6f-415c-a8b7-dbcebe552b01",
   "metadata": {},
   "outputs": [
    {
     "name": "stdout",
     "output_type": "stream",
     "text": [
      "le due liste hanno la stessa lunghezza ['Cybersecurity', 'Data Analyst', 'Backend', 'Frontend', 'Data Analyst', 'Backend', 'Frontend', 'Cybersicurity']\n"
     ]
    }
   ],
   "source": [
    "if len(studenti) == len(corsi):\n",
    "    print(\"le due liste hanno la stessa lunghezza\", corsi)\n",
    "else: \n",
    "    print(\"le due liste non hanno la stessa lunghezza\")"
   ]
  },
  {
   "cell_type": "code",
   "execution_count": 66,
   "id": "f2153c74-cdd8-4dce-b752-80b049070018",
   "metadata": {},
   "outputs": [
    {
     "name": "stdin",
     "output_type": "stream",
     "text": [
      "inserire un testo: a\n"
     ]
    },
    {
     "name": "stdout",
     "output_type": "stream",
     "text": [
      "a\n"
     ]
    }
   ],
   "source": [
    "parola = input(\"inserire un testo:\")\n",
    "lunghezza_min = 6\n",
    "if lunghezza_min < 2:\n",
    "    lunghezza_min = 2\n",
    "if len(parola) <= lunghezza_min:\n",
    "    print(parola)\n",
    "else: \n",
    "        inizio = parola[:3]\n",
    "        fine = parola[-3:]\n",
    "        print(inizio, \"...\", fine, sep=\"\")\n"
   ]
  },
  {
   "cell_type": "code",
   "execution_count": 1,
   "id": "3a27dfde-a3ee-44d0-8ced-4561959e0747",
   "metadata": {},
   "outputs": [
    {
     "ename": "SyntaxError",
     "evalue": "incomplete input (1729001576.py, line 2)",
     "output_type": "error",
     "traceback": [
      "\u001b[1;36m  Cell \u001b[1;32mIn[1], line 2\u001b[1;36m\u001b[0m\n\u001b[1;33m    if num < 0:\u001b[0m\n\u001b[1;37m               ^\u001b[0m\n\u001b[1;31mSyntaxError\u001b[0m\u001b[1;31m:\u001b[0m incomplete input\n"
     ]
    }
   ],
   "source": [
    "'''num = int(input(\"inserisci un numero:\"))\n",
    "if num < 0:'''\n"
   ]
  },
  {
   "cell_type": "code",
   "execution_count": 11,
   "id": "75eb3fa7-05b0-4f41-bb75-a8e4068afdc0",
   "metadata": {},
   "outputs": [
    {
     "name": "stdin",
     "output_type": "stream",
     "text": [
      "Inserisci un numero:  3\n"
     ]
    },
    {
     "ename": "KeyboardInterrupt",
     "evalue": "",
     "output_type": "error",
     "traceback": [
      "\u001b[1;31m---------------------------------------------------------------------------\u001b[0m",
      "\u001b[1;31mKeyboardInterrupt\u001b[0m                         Traceback (most recent call last)",
      "Cell \u001b[1;32mIn[11], line 4\u001b[0m\n\u001b[0;32m      2\u001b[0m fattori \u001b[38;5;241m=\u001b[39m []\n\u001b[0;32m      3\u001b[0m divisore \u001b[38;5;241m=\u001b[39m \u001b[38;5;241m1\u001b[39m\n\u001b[1;32m----> 4\u001b[0m \u001b[38;5;28;01mwhile\u001b[39;00m \u001b[43mdivisore\u001b[49m\u001b[43m \u001b[49m\u001b[38;5;241;43m<\u001b[39;49m\u001b[38;5;241;43m=\u001b[39;49m\u001b[43m \u001b[49m\u001b[43mnumero\u001b[49m:\n\u001b[0;32m      5\u001b[0m     \u001b[38;5;28;01mif\u001b[39;00m numero \u001b[38;5;241m%\u001b[39m divisore \u001b[38;5;241m==\u001b[39m \u001b[38;5;241m0\u001b[39m:\n\u001b[0;32m      6\u001b[0m         fattori\u001b[38;5;241m.\u001b[39mappend(divisore)\n",
      "\u001b[1;31mKeyboardInterrupt\u001b[0m: "
     ]
    }
   ],
   "source": [
    "'''numero = int(input(\"Inserisci un numero: \"))\n",
    "fattori = []\n",
    "divisore = 1\n",
    "while divisore <= numero:\n",
    "    if numero % divisore == 0:\n",
    "        fattori.append(divisore)\n",
    "        divisore += 1\n",
    "print(\"I fattori di\", numero, \"sono:\", fattori)'''"
   ]
  },
  {
   "cell_type": "code",
   "execution_count": 14,
   "id": "6a30db25-b67d-410d-81bd-6b632bf95d81",
   "metadata": {},
   "outputs": [
    {
     "name": "stdin",
     "output_type": "stream",
     "text": [
      "Inserisci un numero:  2\n"
     ]
    },
    {
     "ename": "TypeError",
     "evalue": "'<=' not supported between instances of 'list' and 'int'",
     "output_type": "error",
     "traceback": [
      "\u001b[1;31m---------------------------------------------------------------------------\u001b[0m",
      "\u001b[1;31mTypeError\u001b[0m                                 Traceback (most recent call last)",
      "Cell \u001b[1;32mIn[14], line 4\u001b[0m\n\u001b[0;32m      2\u001b[0m fattori \u001b[38;5;241m=\u001b[39m []\n\u001b[0;32m      3\u001b[0m divisore \u001b[38;5;241m=\u001b[39m \u001b[38;5;241m2\u001b[39m\n\u001b[1;32m----> 4\u001b[0m \u001b[38;5;28;01mwhile\u001b[39;00m \u001b[43m(\u001b[49m\u001b[43mdivisore\u001b[49m\u001b[43m \u001b[49m\u001b[38;5;241;43m*\u001b[39;49m\u001b[43m \u001b[49m\u001b[43mfattori\u001b[49m\u001b[43m)\u001b[49m\u001b[43m \u001b[49m\u001b[38;5;241;43m<\u001b[39;49m\u001b[38;5;241;43m=\u001b[39;49m\u001b[43m \u001b[49m\u001b[43mnum\u001b[49m:\n\u001b[0;32m      5\u001b[0m     numero \u001b[38;5;241m%\u001b[39m divisore\n\u001b[0;32m      6\u001b[0m     fattori\u001b[38;5;241m.\u001b[39mappend(divisore)\n",
      "\u001b[1;31mTypeError\u001b[0m: '<=' not supported between instances of 'list' and 'int'"
     ]
    }
   ],
   "source": [
    "'''num = int(input(\"Inserisci un numero: \"))\n",
    "fattori = []\n",
    "divisore = 2\n",
    "while (divisore * fattori) <= num:\n",
    "    numero % divisore\n",
    "    fattori.append(divisore)\n",
    "    divisore += 1'''"
   ]
  },
  {
   "cell_type": "code",
   "execution_count": 22,
   "id": "6e126544-e3e5-4d59-9fd6-67760ddd5ba2",
   "metadata": {},
   "outputs": [
    {
     "name": "stdin",
     "output_type": "stream",
     "text": [
      "Inserisci un numero:  4\n"
     ]
    },
    {
     "ename": "TypeError",
     "evalue": "unsupported operand type(s) for %: 'int' and 'list'",
     "output_type": "error",
     "traceback": [
      "\u001b[1;31m---------------------------------------------------------------------------\u001b[0m",
      "\u001b[1;31mTypeError\u001b[0m                                 Traceback (most recent call last)",
      "Cell \u001b[1;32mIn[22], line 8\u001b[0m\n\u001b[0;32m      6\u001b[0m \u001b[38;5;28;01mwhile\u001b[39;00m divisore \u001b[38;5;241m<\u001b[39m\u001b[38;5;241m=\u001b[39m num:\n\u001b[0;32m      7\u001b[0m     \u001b[38;5;28;01mif\u001b[39;00m num \u001b[38;5;241m>\u001b[39m\u001b[38;5;241m=\u001b[39m \u001b[38;5;241m2\u001b[39m:\n\u001b[1;32m----> 8\u001b[0m         \u001b[43mnum\u001b[49m\u001b[43m \u001b[49m\u001b[38;5;241;43m%\u001b[39;49m\u001b[43m \u001b[49m\u001b[43mfattore1\u001b[49m \u001b[38;5;241m==\u001b[39m \u001b[38;5;241m0\u001b[39m\n\u001b[0;32m      9\u001b[0m         fattori\u001b[38;5;241m.\u001b[39mappend(fattore1)\n\u001b[0;32m     10\u001b[0m         fattore1 \u001b[38;5;241m=\u001b[39m fattore2\n",
      "\u001b[1;31mTypeError\u001b[0m: unsupported operand type(s) for %: 'int' and 'list'"
     ]
    }
   ],
   "source": [
    "'''num = int(input(\"Inserisci un numero: \"))\n",
    "fattore1 = [2]\n",
    "fattore2 = [1]\n",
    "fattori = []\n",
    "divisore = 2\n",
    "while divisore <= num:\n",
    "    if num >= 2:\n",
    "        num % fattore1 == 0\n",
    "        fattori.append(fattore1)\n",
    "        fattore1 = fattore2\n",
    "        fattore2 = fattori\n",
    "        divisore += 1\n",
    "print(\"i fattori di:\", num, \"sono\", fattori)'''"
   ]
  },
  {
   "cell_type": "code",
   "execution_count": 32,
   "id": "772d53bd-1dc7-4a14-9bb7-042c636ea25e",
   "metadata": {},
   "outputs": [
    {
     "ename": "SyntaxError",
     "evalue": "invalid syntax (990442107.py, line 5)",
     "output_type": "error",
     "traceback": [
      "\u001b[1;36m  Cell \u001b[1;32mIn[32], line 5\u001b[1;36m\u001b[0m\n\u001b[1;33m    numero % divisore == 0:\u001b[0m\n\u001b[1;37m                          ^\u001b[0m\n\u001b[1;31mSyntaxError\u001b[0m\u001b[1;31m:\u001b[0m invalid syntax\n"
     ]
    }
   ],
   "source": [
    "\"\"\"numero = int(input(\"Inserisci un numero: \"))\n",
    "fattori = []\n",
    "divisore = 2\n",
    "while divisore <= numero:\n",
    "       numero % divisore == 0:\n",
    "        fattori.append(divisore)\n",
    "        divisore += 1\n",
    "print(\"I fattori di\", numero, \"sono:\", fattori)\"\"\""
   ]
  },
  {
   "cell_type": "code",
   "execution_count": 33,
   "id": "9f871d45-77ac-4614-aa46-ac19ff76d194",
   "metadata": {},
   "outputs": [
    {
     "name": "stdin",
     "output_type": "stream",
     "text": [
      "Inserisci un numero:  4\n"
     ]
    },
    {
     "name": "stdout",
     "output_type": "stream",
     "text": [
      "4 non è un numero primo. I suoi fattori sono: [2**2]\n"
     ]
    }
   ],
   "source": [
    "\"\"\"from sympy import symbols, simplify\n",
    "\n",
    "numero = int(input(\"Inserisci un numero: \"))\n",
    "\n",
    "if numero == 1 or numero == 0:\n",
    "      print(\"Non è un numero primo!\")\n",
    "\n",
    "else:\n",
    "      numeroviz=numero\n",
    "      divisore = 2\n",
    "      fattori = []\n",
    "    \n",
    "      while divisore <= numero:\n",
    "            if numero % divisore == 0:\n",
    "                  fattori.append(divisore)\n",
    "                  numero = numero // divisore\n",
    "            else:\n",
    "                  divisore += 1\n",
    "\n",
    "\n",
    "      if len(fattori) == 1 and fattori[0] == numeroviz:\n",
    "            print(numeroviz, \"è un numero primo.\")\n",
    "      else:\n",
    "            potenze = []\n",
    "            fattori_set = set(fattori)\n",
    "\n",
    "            \n",
    "            while True:\n",
    "                  if not fattori_set:\n",
    "                        break\n",
    "                  fattore = fattori_set.pop()\n",
    "                  potenza = fattori.count(fattore)\n",
    "                  espressione = symbols(str(fattore)) ** potenza\n",
    "                  potenze.append(simplify(espressione))\n",
    "                 \n",
    "                  \n",
    "      print(numeroviz, \"non è un numero primo. I suoi fattori sono:\", potenze)\"\"\""
   ]
  },
  {
   "cell_type": "code",
   "execution_count": null,
   "id": "2f5bf279-e908-43df-aae5-56ea0f0b8438",
   "metadata": {},
   "outputs": [],
   "source": [
    "\"\"\"numero = int(input(\"Inserisci un numero\"))\n",
    "fattori = list()\n",
    "divisore = 2\n",
    "while numero > 1:\n",
    "    print(\"sto testando il numero:\")\n",
    "    while numero % divisore == 0:\n",
    "        numero /= divisore\n",
    "        fattori.append(divisore)\n",
    "    divisore *= 1\n",
    "print(fattori)\"\"\""
   ]
  },
  {
   "cell_type": "code",
   "execution_count": null,
   "id": "3e9e0ff1-0d62-4d12-9e62-3bcd6659bd50",
   "metadata": {},
   "outputs": [],
   "source": [
    "\"\"\"numero = int(input(\"Inserisci un numero\"))\n",
    "fattori = list()\n",
    "divisore = 2\n",
    "while numero > 1:\n",
    "    if numero % divisore == 0:\n",
    "        numero /= divisore\n",
    "        fattori.append(divisore)\n",
    "    else :\n",
    "        divisore *= 1  \"\"\""
   ]
  }
 ],
 "metadata": {
  "kernelspec": {
   "display_name": "Python 3 (ipykernel)",
   "language": "python",
   "name": "python3"
  },
  "language_info": {
   "codemirror_mode": {
    "name": "ipython",
    "version": 3
   },
   "file_extension": ".py",
   "mimetype": "text/x-python",
   "name": "python",
   "nbconvert_exporter": "python",
   "pygments_lexer": "ipython3",
   "version": "3.10.9"
  }
 },
 "nbformat": 4,
 "nbformat_minor": 5
}
