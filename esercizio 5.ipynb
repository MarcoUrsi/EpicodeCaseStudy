{
 "cells": [
  {
   "cell_type": "code",
   "execution_count": 74,
   "id": "28a8f64a-652e-427a-8040-328564803802",
   "metadata": {},
   "outputs": [
    {
     "data": {
      "text/plain": [
       "[14, 20, 60, 110, 138, 81, 56]"
      ]
     },
     "execution_count": 74,
     "metadata": {},
     "output_type": "execute_result"
    }
   ],
   "source": [
    "numeri = [4, 10, 50, 100, 128, 71, 46]\n",
    "numeripiu10 = [numero + 10 for numero in numeri]\n",
    "numeripiu10"
   ]
  },
  {
   "cell_type": "code",
   "execution_count": 75,
   "id": "eaf055ee-8c82-42a2-9994-583194781839",
   "metadata": {},
   "outputs": [
    {
     "name": "stdout",
     "output_type": "stream",
     "text": [
      "[14, 20, 60, 110, 138, 81, 56]\n"
     ]
    }
   ],
   "source": [
    "nuovi_numeri = []\n",
    "for numero in numeri:\n",
    "    nuovi_numeri.append( numero + 10)\n",
    "print(nuovi_numeri)"
   ]
  },
  {
   "cell_type": "code",
   "execution_count": 76,
   "id": "e8ef374a-2263-44ba-8ee4-41439b507d82",
   "metadata": {},
   "outputs": [
    {
     "data": {
      "text/plain": [
       "[8, 20, 100, 200, 256, 142, 92]"
      ]
     },
     "execution_count": 76,
     "metadata": {},
     "output_type": "execute_result"
    }
   ],
   "source": [
    "numeri_raddoppiati = [numero*2 for numero in numeri]\n",
    "numeri_raddoppiati"
   ]
  },
  {
   "cell_type": "code",
   "execution_count": 78,
   "id": "4a9c7022-6b71-4978-acfd-73ebf0dd867a",
   "metadata": {},
   "outputs": [],
   "source": [
    "import numpy as np\n",
    "numeri = np.array(numeri)"
   ]
  },
  {
   "cell_type": "code",
   "execution_count": 79,
   "id": "f3aad0d1-c8b2-404d-b911-9bb2fe2135ef",
   "metadata": {},
   "outputs": [
    {
     "data": {
      "text/plain": [
       "numpy.ndarray"
      ]
     },
     "execution_count": 79,
     "metadata": {},
     "output_type": "execute_result"
    }
   ],
   "source": [
    "type(numeri)"
   ]
  },
  {
   "cell_type": "code",
   "execution_count": 80,
   "id": "44c9460a-c0e3-4ef8-964a-bbae4455f865",
   "metadata": {},
   "outputs": [
    {
     "data": {
      "text/plain": [
       "array([  8,  20, 100, 200, 256, 142,  92])"
      ]
     },
     "execution_count": 80,
     "metadata": {},
     "output_type": "execute_result"
    }
   ],
   "source": [
    "numeri * 2"
   ]
  },
  {
   "cell_type": "code",
   "execution_count": 12,
   "id": "5b98d211-c579-4347-8a75-db0c611fffbc",
   "metadata": {},
   "outputs": [
    {
     "data": {
      "text/plain": [
       "['A', 'B', 'C', 'D', 'E', 'F', 'G', 'H']"
      ]
     },
     "execution_count": 12,
     "metadata": {},
     "output_type": "execute_result"
    }
   ],
   "source": [
    "nomi = [\"Alex\", \"Bob\", \"Cindy\", \"Dan\", \"Emma\", \"Faith\", \"Grace\", \"Henry\"]\n",
    "iniziali_nomi = [nome[0] for nome in nomi]\n",
    "iniziali_nomi"
   ]
  },
  {
   "cell_type": "code",
   "execution_count": 73,
   "id": "a29336d2-16ed-4a9e-a965-9935d737f851",
   "metadata": {},
   "outputs": [
    {
     "name": "stdout",
     "output_type": "stream",
     "text": [
      "['A.', 'B.', 'C.', 'D.', 'E.', 'F.', 'G.', 'H.']\n"
     ]
    }
   ],
   "source": [
    "iniziali_nomipunto1 = [nome[0] + \".\" for nome in nomi]\n",
    "print(iniziali_nomipunto1)"
   ]
  },
  {
   "cell_type": "code",
   "execution_count": 69,
   "id": "240cac5a-b23b-4c87-9d5a-d4e0a01ad6db",
   "metadata": {},
   "outputs": [
    {
     "name": "stdout",
     "output_type": "stream",
     "text": [
      "A.\n",
      "B.\n",
      "C.\n",
      "D.\n",
      "E.\n",
      "F.\n",
      "G.\n",
      "H.\n"
     ]
    }
   ],
   "source": [
    "inizilai_nomipunto\n",
    "for iniziale in iniziali_nomi:\n",
    "                        print(iniziale + \".\")"
   ]
  },
  {
   "cell_type": "code",
   "execution_count": 38,
   "id": "5ed8b074-6efe-4b12-97dc-4e974a2c050f",
   "metadata": {},
   "outputs": [
    {
     "data": {
      "text/plain": [
       "['DEF', 'JKL', 'PQR', 'VWX', 'ABC', 'GHI']"
      ]
     },
     "execution_count": 38,
     "metadata": {},
     "output_type": "execute_result"
    }
   ],
   "source": [
    "lista_cf = [\"ABCDEF95G01A123B\", \"GHIJKL91M02A321C\", \"MNOPQR89S03A456D\", \"STUVWX95Z04A654E\", \"XYZABC01D05A789F\", \"DEFGHI95J06A987G\"]\n",
    "caratteri_nome = [caratteri[3:6] for caratteri in lista_cf]\n",
    "caratteri_nome"
   ]
  },
  {
   "cell_type": "code",
   "execution_count": 81,
   "id": "1fbc57ac-71b0-4fe3-9e09-583ca7a62a86",
   "metadata": {},
   "outputs": [
    {
     "data": {
      "text/plain": [
       "{'ABCDEF95G01A123B': 'DEF',\n",
       " 'GHIJKL91M02A321C': 'JKL',\n",
       " 'MNOPQR89S03A456D': 'PQR',\n",
       " 'STUVWX95Z04A654E': 'VWX',\n",
       " 'XYZABC01D05A789F': 'ABC',\n",
       " 'DEFGHI95J06A987G': 'GHI'}"
      ]
     },
     "execution_count": 81,
     "metadata": {},
     "output_type": "execute_result"
    }
   ],
   "source": [
    "{cf: cf[3:6] for cf in lista_cf}"
   ]
  },
  {
   "cell_type": "code",
   "execution_count": 83,
   "id": "9aa57825-54f7-4e38-94be-63158e3fefe6",
   "metadata": {},
   "outputs": [],
   "source": [
    "lista_valori = [1, 2, 3, 4, 5, 6]"
   ]
  },
  {
   "cell_type": "code",
   "execution_count": 84,
   "id": "8b752444-82b5-4a5a-a637-e7f5b32782a2",
   "metadata": {},
   "outputs": [
    {
     "data": {
      "text/plain": [
       "{'ABCDEF95G01A123B': 1,\n",
       " 'GHIJKL91M02A321C': 2,\n",
       " 'MNOPQR89S03A456D': 3,\n",
       " 'STUVWX95Z04A654E': 4,\n",
       " 'XYZABC01D05A789F': 5,\n",
       " 'DEFGHI95J06A987G': 6}"
      ]
     },
     "execution_count": 84,
     "metadata": {},
     "output_type": "execute_result"
    }
   ],
   "source": [
    "{cf: val for cf, val in zip(lista_cf, lista_valori)}"
   ]
  },
  {
   "cell_type": "code",
   "execution_count": 40,
   "id": "d19bce55-d76d-49eb-a5b5-bfd0641e8323",
   "metadata": {},
   "outputs": [
    {
     "data": {
      "text/plain": [
       "['ABC', 'GHI', 'MNO', 'STU', 'XYZ', 'DEF']"
      ]
     },
     "execution_count": 40,
     "metadata": {},
     "output_type": "execute_result"
    }
   ],
   "source": [
    "caratteri_cognome = [caratteri[0:3] for caratteri in lista_cf]\n",
    "caratteri_cognome"
   ]
  },
  {
   "cell_type": "code",
   "execution_count": 85,
   "id": "fd0364c2-c68e-4169-a732-94cd2d87f5fe",
   "metadata": {},
   "outputs": [],
   "source": [
    "lista_nomi = [cf[3:6] for cf in lista_cf]\n",
    "lista_cognomi = [cf[:3] for cf in lista_cf]"
   ]
  },
  {
   "cell_type": "code",
   "execution_count": 86,
   "id": "b88716df-62d3-4cd4-bcf8-e72e04cb62e5",
   "metadata": {},
   "outputs": [
    {
     "data": {
      "text/plain": [
       "['DEF', 'JKL', 'PQR', 'VWX', 'ABC', 'GHI']"
      ]
     },
     "execution_count": 86,
     "metadata": {},
     "output_type": "execute_result"
    }
   ],
   "source": [
    "lista_nomi"
   ]
  },
  {
   "cell_type": "code",
   "execution_count": 87,
   "id": "e9d21324-c6e4-4c82-bd2d-8d638947a724",
   "metadata": {},
   "outputs": [
    {
     "data": {
      "text/plain": [
       "['ABC', 'GHI', 'MNO', 'STU', 'XYZ', 'DEF']"
      ]
     },
     "execution_count": 87,
     "metadata": {},
     "output_type": "execute_result"
    }
   ],
   "source": [
    "lista_cognomi"
   ]
  },
  {
   "cell_type": "code",
   "execution_count": 90,
   "id": "02ac0bdd-5fd5-444e-95a2-715a4d8bc64f",
   "metadata": {},
   "outputs": [
    {
     "data": {
      "text/plain": [
       "['ABCDEF95G01A123B', 'STUVWX95Z04A654E', 'DEFGHI95J06A987G']"
      ]
     },
     "execution_count": 90,
     "metadata": {},
     "output_type": "execute_result"
    }
   ],
   "source": [
    "lista_nati95 = [cf for cf in lista_cf if \"95\" in cf[6:8]]\n",
    "lista_nati95"
   ]
  },
  {
   "cell_type": "code",
   "execution_count": 92,
   "id": "99d84d28-0af0-425b-948d-85a046b0d471",
   "metadata": {},
   "outputs": [
    {
     "data": {
      "text/plain": [
       "['1A123', '4A654', '6A987']"
      ]
     },
     "execution_count": 92,
     "metadata": {},
     "output_type": "execute_result"
    }
   ],
   "source": [
    "lista_nati95_ultimi5caratteri = [cf[-6:-1] for cf in lista_cf if \"95\" in cf[6:8]]\n",
    "lista_nati95_ultimi5caratteri"
   ]
  },
  {
   "cell_type": "code",
   "execution_count": 55,
   "id": "1fe68f2f-33c8-49ce-8d03-b32f2ba37c1f",
   "metadata": {},
   "outputs": [
    {
     "data": {
      "text/plain": [
       "['100 $', '200 $', '500 $', '10 $', '50 $', '70 $']"
      ]
     },
     "execution_count": 55,
     "metadata": {},
     "output_type": "execute_result"
    }
   ],
   "source": [
    "prezzi_euro = [\"100 €\", \"200 €\", \"500 €\", \"10 €\", \"50 €\", \"70 €\"]\n",
    "nuoviprezzi_dollaro = [prezzo.replace(\"€\", \"$\") for prezzo in prezzi_euro]\n",
    "nuoviprezzi_dollaro"
   ]
  },
  {
   "cell_type": "code",
   "execution_count": 51,
   "id": "2c3cdc81-9439-4d84-abf4-6d060908527b",
   "metadata": {},
   "outputs": [],
   "source": [
    "studenti = [\"Alex\", \"Bob\", \"Cindy\", \"Dan\", \"Emma\", \"Faith\", \"Grace\", \"Henry\", \"Isabelle\", \"John\"]"
   ]
  },
  {
   "cell_type": "code",
   "execution_count": 61,
   "id": "0de23269-f769-4a43-9beb-86d4348f5ef5",
   "metadata": {},
   "outputs": [
    {
     "data": {
      "text/plain": [
       "['Alex', 'Bob', 'Cindy', 'Dan', 'Emma']"
      ]
     },
     "execution_count": 61,
     "metadata": {},
     "output_type": "execute_result"
    }
   ],
   "source": [
    "prima_squadra = [studente for studente in studenti if studenti.index(studente) < len(studenti)/2]\n",
    "prima_squadra"
   ]
  },
  {
   "cell_type": "code",
   "execution_count": 95,
   "id": "9c013caa-33ad-4d48-bf65-65288bd5fc18",
   "metadata": {},
   "outputs": [
    {
     "data": {
      "text/plain": [
       "(['Alex', 'Bob', 'Cindy', 'Dan', 'Emma'],\n",
       " ['Faith', 'Grace', 'Henry', 'Isabelle', 'John'])"
      ]
     },
     "execution_count": 95,
     "metadata": {},
     "output_type": "execute_result"
    }
   ],
   "source": [
    "studenti[:len(studenti)//2], studenti[len(studenti)//2:]"
   ]
  },
  {
   "cell_type": "code",
   "execution_count": 63,
   "id": "5b7204d1-2b1a-42df-849f-a6969b4a42d4",
   "metadata": {},
   "outputs": [
    {
     "data": {
      "text/plain": [
       "['Faith', 'Grace', 'Henry', 'Isabelle', 'John']"
      ]
     },
     "execution_count": 63,
     "metadata": {},
     "output_type": "execute_result"
    }
   ],
   "source": [
    "seconda_squadra = [studente for studente in studenti if studenti.index(studente) >= len(studenti)/2]\n",
    "seconda_squadra"
   ]
  },
  {
   "cell_type": "code",
   "execution_count": 58,
   "id": "2f411b94-a4b2-46ba-8ac0-85a2afa34258",
   "metadata": {},
   "outputs": [
    {
     "data": {
      "text/plain": [
       "['Alex', 'Cindy', 'Emma', 'Grace', 'Isabelle']"
      ]
     },
     "execution_count": 58,
     "metadata": {},
     "output_type": "execute_result"
    }
   ],
   "source": [
    "squadra_pari = [studente for studente in studenti if studenti.index(studente)%2 == 0]\n",
    "squadra_pari"
   ]
  },
  {
   "cell_type": "code",
   "execution_count": 59,
   "id": "883c37a7-1c30-43a1-b003-52c1804d3d93",
   "metadata": {},
   "outputs": [
    {
     "data": {
      "text/plain": [
       "['Bob', 'Dan', 'Faith', 'Henry', 'John']"
      ]
     },
     "execution_count": 59,
     "metadata": {},
     "output_type": "execute_result"
    }
   ],
   "source": [
    "squadra_dispari = [studente for studente in studenti if studenti.index(studente)%2 != 0]\n",
    "squadra_dispari"
   ]
  },
  {
   "cell_type": "code",
   "execution_count": null,
   "id": "5f7ec70d-f31c-42f7-b173-0427d33c6a01",
   "metadata": {},
   "outputs": [],
   "source": [
    "'''studenti = [\"Alex\", \"Bob\", \"Cindy\", \"Dan\", \"Emma\", \"Faith\", \"Grace\", \"Henry\"]\n",
    "squadra1 = []\n",
    "squadra2 = []\n",
    "i=0\n",
    "while i < len(studenti) :\n",
    "    if i < len(studenti)/2:\n",
    "        squadra1.append(studenti[i])\n",
    "    else:\n",
    "        squadra2.append(studenti[i])\n",
    "    i += 1\n",
    "print(squadra1)\n",
    "print(squadra2)'''"
   ]
  },
  {
   "cell_type": "code",
   "execution_count": 5,
   "id": "9da9d1df-4245-4fd2-a439-cea64c63b6d0",
   "metadata": {},
   "outputs": [
    {
     "name": "stdout",
     "output_type": "stream",
     "text": [
      "in questo mese: 1 la media dei guadagni è: 100\n",
      "in questo mese: 2 la media dei guadagni è: 95\n",
      "in questo mese: 3 la media dei guadagni è: 86\n",
      "in questo mese: 4 la media dei guadagni è: 75\n",
      "in questo mese: 5 la media dei guadagni è: 70\n",
      "in questo mese: 6 la media dei guadagni è: 71\n",
      "in questo mese: 7 la media dei guadagni è: 74\n",
      "in questo mese: 8 la media dei guadagni è: 80\n",
      "in questo mese: 9 la media dei guadagni è: 80\n",
      "in questo mese: 10 la media dei guadagni è: 74\n",
      "in questo mese: 11 la media dei guadagni è: 71\n",
      "in questo mese: 12 la media dei guadagni è: 70\n"
     ]
    }
   ],
   "source": [
    "#13"
   ]
  },
  {
   "cell_type": "code",
   "execution_count": 57,
   "id": "52c0d1c6-5d16-409a-85a4-5c4c71a54570",
   "metadata": {},
   "outputs": [
    {
     "name": "stdout",
     "output_type": "stream",
     "text": [
      "mese 1 : 100 €\n",
      "mese 2 : 90 € ( media prec: 95 )\n",
      "mese 3 : 70 € ( media prec: 86 )\n",
      "mese 4 : 40 € ( media prec: 75 )\n",
      "mese 5 : 50 € ( media prec: 70 )\n",
      "mese 6 : 80 € ( media prec: 71 )\n",
      "mese 7 : 90 € ( media prec: 74 )\n",
      "mese 8 : 120 € ( media prec: 80 )\n",
      "mese 9 : 80 € ( media prec: 80 )\n",
      "mese 10 : 20 € ( media prec: 74 )\n",
      "mese 11 : 50 € ( media prec: 71 )\n",
      "mese 12 : 50 € ( media prec: 70 )\n"
     ]
    }
   ],
   "source": [
    "guadagni = [100, 90, 70, 40, 50, 80, 90, 120, 80, 20, 50, 50]\n",
    "media = []\n",
    "somma = 0\n",
    "for n, guadagno in enumerate(guadagni):\n",
    "    somma += guadagno \n",
    "    n += 1\n",
    "    if guadagni.index(guadagno) == 0:\n",
    "        print(\"mese\", n, \":\", guadagno, \"€\")\n",
    "    if guadagni.index(guadagno) > 0:\n",
    "        print(\"mese\", n, \":\", guadagno, \"€\", \"( media prec:\", somma//n, \")\")"
   ]
  },
  {
   "cell_type": "code",
   "execution_count": 6,
   "id": "03cddf97-acbf-41bc-adc0-b155ebf984c2",
   "metadata": {},
   "outputs": [
    {
     "name": "stdout",
     "output_type": "stream",
     "text": [
      "il guadagno del primo mese è 100 €\n",
      "il guadagno del mese  2 è 90 la media prec. è 100.0 €\n",
      "il guadagno del mese  3 è 70 la media prec. è 95.0 €\n",
      "il guadagno del mese  4 è 40 la media prec. è 86.66666666666667 €\n",
      "il guadagno del mese  5 è 50 la media prec. è 75.0 €\n",
      "il guadagno del mese  6 è 80 la media prec. è 70.0 €\n",
      "il guadagno del mese  7 è 90 la media prec. è 71.66666666666667 €\n",
      "il guadagno del mese  8 è 120 la media prec. è 74.28571428571429 €\n",
      "il guadagno del mese  9 è 80 la media prec. è 80.0 €\n",
      "il guadagno del mese  10 è 20 la media prec. è 80.0 €\n",
      "il guadagno del mese  11 è 50 la media prec. è 74.0 €\n",
      "il guadagno del mese  12 è 50 la media prec. è 71.81818181818181 €\n"
     ]
    }
   ],
   "source": [
    "guadagni = [100, 90, 70, 40, 50, 80, 90, 120, 80, 20, 50, 50]\n",
    "for mese, cifra in enumerate(guadagni):\n",
    "    if mese==0:\n",
    "        print(\"il guadagno del primo mese è\", cifra, \"€\")\n",
    "    else: \n",
    "        media = sum(guadagni[:mese])/mese\n",
    "        print(\"il guadagno del mese \", mese+1, \"è\", cifra, \"la media prec. è\", media, \"€\")"
   ]
  },
  {
   "cell_type": "code",
   "execution_count": null,
   "id": "ccbe87a3-9b7a-43e6-92aa-815e8f7bbed0",
   "metadata": {},
   "outputs": [],
   "source": [
    "guadagni_anni_successivo = list( range( 1200, 2400, 100))"
   ]
  },
  {
   "cell_type": "code",
   "execution_count": 20,
   "id": "e398d929-794e-4cc6-97fd-01ef6daac7f6",
   "metadata": {},
   "outputs": [
    {
     "data": {
      "text/plain": [
       "12"
      ]
     },
     "execution_count": 20,
     "metadata": {},
     "output_type": "execute_result"
    }
   ],
   "source": [
    "len(guadagni)"
   ]
  },
  {
   "cell_type": "code",
   "execution_count": 38,
   "id": "c196f396-31ce-40a7-a70f-5b425ca5358b",
   "metadata": {},
   "outputs": [
    {
     "data": {
      "text/plain": [
       "9"
      ]
     },
     "execution_count": 38,
     "metadata": {},
     "output_type": "execute_result"
    }
   ],
   "source": [
    "#14\n",
    "lista = [2, 5, 7, 9]\n",
    "max(lista)"
   ]
  },
  {
   "cell_type": "code",
   "execution_count": 10,
   "id": "294142b3-59a3-41c7-bc22-f2e45d1ef2e8",
   "metadata": {},
   "outputs": [],
   "source": [
    "#15\n",
    "numeri = [10, 58, 72, 18, 17, 48, 9, 10, 24, 48] "
   ]
  },
  {
   "cell_type": "code",
   "execution_count": 8,
   "id": "0d4c992f-c65f-4cf5-a221-df823535ef02",
   "metadata": {},
   "outputs": [],
   "source": [
    "import numpy as np"
   ]
  },
  {
   "cell_type": "code",
   "execution_count": 14,
   "id": "90e56ffc-4f7d-46f0-b5a4-e6e9ecfb5f65",
   "metadata": {},
   "outputs": [],
   "source": [
    "def massimo(numeri): #o lista\n",
    "    massimo_finora = numeri[0]\n",
    "    for numero in numeri:\n",
    "        if numero > massimo_finora:\n",
    "            massimo_finora = numero\n",
    "    return massimo_finora"
   ]
  },
  {
   "cell_type": "code",
   "execution_count": 13,
   "id": "884579f7-a627-4c34-bdc3-4c81ba1eddc4",
   "metadata": {},
   "outputs": [
    {
     "data": {
      "text/plain": [
       "72"
      ]
     },
     "execution_count": 13,
     "metadata": {},
     "output_type": "execute_result"
    }
   ],
   "source": [
    "massimo(numeri)"
   ]
  },
  {
   "cell_type": "code",
   "execution_count": 7,
   "id": "daec44fd-5826-4888-865c-6d9f4855bd9f",
   "metadata": {},
   "outputs": [],
   "source": [
    "numeri = [10, 58, 72, 18, 17, 48, 9, 10, 24, 48] \n",
    "def massimoo(numeri): #o lista\n",
    "    massimo_finora = numeri[0]\n",
    "    minore_finora = numeri[0]\n",
    "    for numero in numeri:\n",
    "        if numero > massimo_finora:\n",
    "            massimo_finora = numero\n",
    "        elif numero < minore_finora:\n",
    "            minore_finora = numero\n",
    "    return massimo_finora, minore_finora"
   ]
  },
  {
   "cell_type": "code",
   "execution_count": 8,
   "id": "53d36d6f-1d83-43f7-b62d-7f7bb435d239",
   "metadata": {},
   "outputs": [
    {
     "data": {
      "text/plain": [
       "(72, 9)"
      ]
     },
     "execution_count": 8,
     "metadata": {},
     "output_type": "execute_result"
    }
   ],
   "source": [
    "massimoo(numeri)"
   ]
  },
  {
   "cell_type": "code",
   "execution_count": 18,
   "id": "c60c5ee6-15cd-42da-93a7-f2d121a0fa18",
   "metadata": {},
   "outputs": [],
   "source": [
    "def minimo_e_massimo(numeri):\n",
    "    minimo = min(numeri)\n",
    "    massimo = max(numeri)\n",
    "    return minimo, massimo"
   ]
  },
  {
   "cell_type": "code",
   "execution_count": 19,
   "id": "871157b7-abe9-4c3d-a057-269f36a83280",
   "metadata": {},
   "outputs": [
    {
     "data": {
      "text/plain": [
       "(9, 72)"
      ]
     },
     "execution_count": 19,
     "metadata": {},
     "output_type": "execute_result"
    }
   ],
   "source": [
    "minimo_e_massimo(numeri)"
   ]
  },
  {
   "cell_type": "code",
   "execution_count": 5,
   "id": "1bb8e0d2-a658-4689-be57-0d1625d1625b",
   "metadata": {},
   "outputs": [],
   "source": [
    "numeri = [10, 58, 72, 18, 17, 48, 9, 10, 24, 48] \n",
    "def minimo_e_massimo(numeri):\n",
    "    minimo = min(numeri)\n",
    "    massimo = max(numeri)\n",
    "    risultato = {\"min\": minimo, \"max\": massimo}\n",
    "    return minimo, massimo"
   ]
  },
  {
   "cell_type": "code",
   "execution_count": 6,
   "id": "99b6e544-802f-428c-9d46-7cc9307695d3",
   "metadata": {},
   "outputs": [
    {
     "data": {
      "text/plain": [
       "(9, 72)"
      ]
     },
     "execution_count": 6,
     "metadata": {},
     "output_type": "execute_result"
    }
   ],
   "source": [
    "minimo_e_massimo(numeri)"
   ]
  },
  {
   "cell_type": "code",
   "execution_count": null,
   "id": "90147eac-1eda-4235-96be-cf780c02a578",
   "metadata": {},
   "outputs": [],
   "source": [
    "numeri = [10, 58, 72, 18, 17, 48, 9, 10, 24, 48] \n",
    "def minimo_e_massimo(numeri):\n",
    "    minimo = min(numeri)\n",
    "    massimo = max(numeri)\n",
    "    risultato = {\"min\": minimo, \"max\": massimo}\n",
    "    return risultato"
   ]
  },
  {
   "cell_type": "code",
   "execution_count": null,
   "id": "808c7556-3522-46b0-b859-fac7d6de8463",
   "metadata": {},
   "outputs": [],
   "source": []
  },
  {
   "cell_type": "code",
   "execution_count": null,
   "id": "45cfe554-4708-48cb-a3d4-a149642a7959",
   "metadata": {},
   "outputs": [],
   "source": [
    "import numpy as np\n"
   ]
  },
  {
   "cell_type": "code",
   "execution_count": 11,
   "id": "114e925d-33be-44cd-ad11-60aa5dfd8c57",
   "metadata": {},
   "outputs": [],
   "source": [
    "#numeri = [10, 58, 72, 18, 17, 48, 9, 10, 24, 48] \n",
    "def trio_massimo(numeri):\n",
    "    massimi = numeri[:3]\n",
    "    massimi.sort()\n",
    "    for numero in numeri[3:]:\n",
    "        if numero < massimi[0]:\n",
    "             continue\n",
    "        elif massimi[0] <= numero < massimi[1]:\n",
    "            massimi[0] = numero\n",
    "        elif massimi[1] <= numero < massimi[2]:\n",
    "            massimi = massimi[1] + [numero] + massimi[2]\n",
    "        elif numero >= massimi[2]:\n",
    "            massimi = massimi[1:] + [numero]\n",
    "    return massimi"
   ]
  },
  {
   "cell_type": "code",
   "execution_count": 13,
   "id": "caa8de62-192a-45f1-9fb5-ec53560275a9",
   "metadata": {},
   "outputs": [
    {
     "data": {
      "text/plain": [
       "[48, 58, 72]"
      ]
     },
     "execution_count": 13,
     "metadata": {},
     "output_type": "execute_result"
    }
   ],
   "source": [
    "trio_massimo(numeri)"
   ]
  },
  {
   "cell_type": "code",
   "execution_count": null,
   "id": "e9e6c27a-3863-483a-a911-c1120992f801",
   "metadata": {},
   "outputs": [],
   "source": []
  },
  {
   "cell_type": "code",
   "execution_count": 14,
   "id": "66b5b60b-2e4d-4098-8d15-485f2435ad62",
   "metadata": {},
   "outputs": [],
   "source": [
    "numeri = [10, 58, 72, 18, 17, 48, 9, 10, 24, 48] \n",
    "def media_k(numeri, k):\n",
    "    maggiori = [num for num in numeri if num > k]\n",
    "    media = sum(maggiori)/len(maggiori)\n",
    "    return media"
   ]
  },
  {
   "cell_type": "code",
   "execution_count": 15,
   "id": "99b69417-0ea2-4c77-bcbf-61bf27984482",
   "metadata": {},
   "outputs": [
    {
     "data": {
      "text/plain": [
       "31.4"
      ]
     },
     "execution_count": 15,
     "metadata": {},
     "output_type": "execute_result"
    }
   ],
   "source": [
    "media_k(numeri, 3)"
   ]
  },
  {
   "cell_type": "code",
   "execution_count": 1,
   "id": "04cefc60-1d08-4fbf-9720-99192f570077",
   "metadata": {},
   "outputs": [],
   "source": [
    "numeri = [10, 58, 72, 18, 17, 48, 9, 10, 24, 48] \n",
    "def media_k(numeri, k):\n",
    "    maggiori = [num for num in numeri if num >= k]\n",
    "    if len(maggiori) == 0:\n",
    "        print(\"non ce ne sono\")\n",
    "        return\n",
    "    else:    \n",
    "        media = sum(maggiori)/len(maggiori)\n",
    "        return media"
   ]
  },
  {
   "cell_type": "code",
   "execution_count": null,
   "id": "128c491e-977f-4fa0-8b8c-6dbfe8926f03",
   "metadata": {},
   "outputs": [],
   "source": []
  }
 ],
 "metadata": {
  "kernelspec": {
   "display_name": "Python 3 (ipykernel)",
   "language": "python",
   "name": "python3"
  },
  "language_info": {
   "codemirror_mode": {
    "name": "ipython",
    "version": 3
   },
   "file_extension": ".py",
   "mimetype": "text/x-python",
   "name": "python",
   "nbconvert_exporter": "python",
   "pygments_lexer": "ipython3",
   "version": "3.10.9"
  }
 },
 "nbformat": 4,
 "nbformat_minor": 5
}
